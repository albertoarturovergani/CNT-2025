{
 "cells": [
  {
   "cell_type": "markdown",
   "id": "138bcf09-78a2-4e5f-8ce9-3a2856695fe1",
   "metadata": {},
   "source": [
    "# Rossant_et_al_2011"
   ]
  },
  {
   "cell_type": "markdown",
   "id": "30e25c15-8497-4a3d-bfc2-f0111de12268",
   "metadata": {},
   "source": [
    "code source: https://brian2.readthedocs.io/en/stable/examples/frompapers.Rossant_et_al_2011bis.html#distributed-synchrony-example"
   ]
  },
  {
   "cell_type": "markdown",
   "id": "8fc0e4e2-cdbe-45ad-a43c-73d4ad7fb127",
   "metadata": {},
   "source": [
    "paper: https://www.jneurosci.org/content/31/47/17193"
   ]
  },
  {
   "cell_type": "code",
   "execution_count": 1,
   "id": "0aff75b6-fa0c-41ca-a7e4-46f35a6057b8",
   "metadata": {},
   "outputs": [],
   "source": [
    "from brian2 import *\n",
    "\n",
    "def Rossant2011(integrator):\n",
    "\n",
    "    # neuron parameters\n",
    "    theta = -55*mV\n",
    "    El = -65*mV\n",
    "    vmean = -65*mV\n",
    "    taum = 5*ms\n",
    "    taue = 3*ms\n",
    "    taui = 10*ms\n",
    "    eqs = Equations(\"\"\"\n",
    "                    dv/dt  = (ge+gi-(v-El))/taum : volt\n",
    "                    dge/dt = -ge/taue : volt\n",
    "                    dgi/dt = -gi/taui : volt\n",
    "                    \"\"\")\n",
    "\n",
    "    # input parameters\n",
    "    p = 15\n",
    "    ne = 4000\n",
    "    ni = 1000\n",
    "    lambdac = 40*Hz\n",
    "    lambdae = lambdai = 1*Hz\n",
    "\n",
    "    # synapse parameters\n",
    "    we = .5*mV/(taum/taue)**(taum/(taue-taum))\n",
    "    wi = (vmean-El-lambdae*ne*we*taue)/(lambdae*ni*taui)\n",
    "\n",
    "    # NeuronGroup definition\n",
    "    group = NeuronGroup(N=2, model=eqs, reset='v = El',\n",
    "                        threshold='v>theta',\n",
    "                        refractory=5*ms, method=integrator)\n",
    "    group.v = El\n",
    "    group.ge = group.gi = 0\n",
    "\n",
    "    # independent E/I Poisson inputs\n",
    "    p1 = PoissonInput(group[0:1], 'ge', N=ne, rate=lambdae, weight=we)\n",
    "    p2 = PoissonInput(group[0:1], 'gi', N=ni, rate=lambdai, weight=wi)\n",
    "\n",
    "    # independent E/I Poisson inputs + synchronous E events\n",
    "    p3 = PoissonInput(group[1:], 'ge', N=ne, rate=lambdae-(p*1.0/ne)*lambdac, weight=we)\n",
    "    p4 = PoissonInput(group[1:], 'gi', N=ni, rate=lambdai, weight=wi)\n",
    "    p5 = PoissonInput(group[1:], 'ge', N=1, rate=lambdac, weight=p*we)\n",
    "\n",
    "    # run the simulation\n",
    "    M = SpikeMonitor(group)\n",
    "    SM = StateMonitor(group, 'v', record=True)\n",
    "    BrianLogger.log_level_info()\n",
    "    run(1*second)\n",
    "    # plot trace and spikes\n",
    "    for i in [0, 1]:\n",
    "        spikes = (M.t[M.i == i] - defaultclock.dt)/ms\n",
    "        val = SM[i].v\n",
    "        subplot(2, 1, i+1)\n",
    "        plot(SM.t/ms, val)\n",
    "        plot(tile(spikes, (2, 1)),\n",
    "             vstack((val[array(spikes, dtype=int)],\n",
    "                     zeros(len(spikes)))), 'C0')\n",
    "        title(\"%s: %d spikes/second\" % ([\"uncorrelated inputs\", \"correlated inputs\"][i],\n",
    "                                        M.count[i]))\n",
    "    tight_layout()\n",
    "    show()\n",
    "\n",
    "    "
   ]
  },
  {
   "cell_type": "raw",
   "id": "334bd840-c2f1-4b69-a42d-57527bc50829",
   "metadata": {},
   "source": [
    "'exact': exact integration for linear equations (alternative name: 'linear')\n",
    "'exponential_euler': exponential Euler integration for conditionally linear equations\n",
    "'euler': forward Euler integration (for additive stochastic differential equations using the Euler-Maruyama method)\n",
    "'rk2': second order Runge-Kutta method (midpoint method)\n",
    "'rk4': classical Runge-Kutta method (RK4)\n",
    "'heun': stochastic Heun method for solving Stratonovich stochastic differential equations with non-diagonal multiplicative noise.\n",
    "'milstein': derivative-free Milstein method for solving stochastic differential equations with diagonal multiplicative noise"
   ]
  },
  {
   "cell_type": "code",
   "execution_count": 2,
   "id": "01c474b4-c474-4543-9b87-67d4f8a3f10c",
   "metadata": {},
   "outputs": [
    {
     "name": "stdout",
     "output_type": "stream",
     "text": [
      "exponential_euler\n"
     ]
    },
    {
     "name": "stderr",
     "output_type": "stream",
     "text": [
      "\n",
      "KeyboardInterrupt\n",
      "\n"
     ]
    }
   ],
   "source": [
    "integrators=[#'exact', \n",
    "             'exponential_euler', 'euler', 'rk2', 'rk4', 'heun', 'milstein']\n",
    "for integrator in integrators:\n",
    "    print(integrator)\n",
    "    Rossant2011(integrator)"
   ]
  },
  {
   "cell_type": "code",
   "execution_count": null,
   "id": "8183832e-c0c0-431c-bfa6-a832102aeecd",
   "metadata": {},
   "outputs": [],
   "source": []
  }
 ],
 "metadata": {
  "kernelspec": {
   "display_name": "Python 3 (ipykernel)",
   "language": "python",
   "name": "python3"
  },
  "language_info": {
   "codemirror_mode": {
    "name": "ipython",
    "version": 3
   },
   "file_extension": ".py",
   "mimetype": "text/x-python",
   "name": "python",
   "nbconvert_exporter": "python",
   "pygments_lexer": "ipython3",
   "version": "3.8.5"
  }
 },
 "nbformat": 4,
 "nbformat_minor": 5
}
